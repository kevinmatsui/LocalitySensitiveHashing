{
  "nbformat": 4,
  "nbformat_minor": 0,
  "metadata": {
    "colab": {
      "provenance": [],
      "authorship_tag": "ABX9TyOiG6j0tDV77UMyWCRB9Muk",
      "include_colab_link": true
    },
    "kernelspec": {
      "name": "python3",
      "display_name": "Python 3"
    },
    "language_info": {
      "name": "python"
    }
  },
  "cells": [
    {
      "cell_type": "markdown",
      "metadata": {
        "id": "view-in-github",
        "colab_type": "text"
      },
      "source": [
        "<a href=\"https://colab.research.google.com/github/kevinmatsui/LocalitySensitiveHashing/blob/main/LocalitySensitiveHashing.ipynb\" target=\"_parent\"><img src=\"https://colab.research.google.com/assets/colab-badge.svg\" alt=\"Open In Colab\"/></a>"
      ]
    },
    {
      "cell_type": "markdown",
      "source": [
        "LSH And Distances\n",
        ".. Angular and Hashed Approximations\n"
      ],
      "metadata": {
        "id": "hOmLIa-UbI8V"
      }
    },
    {
      "cell_type": "code",
      "source": [
        "import numpy as np\n",
        "import matplotlib.pyplot as plt\n",
        "import random\n",
        "import math"
      ],
      "metadata": {
        "id": "BSfQgxIHGQAP"
      },
      "execution_count": null,
      "outputs": []
    },
    {
      "cell_type": "code",
      "source": [
        "from google.colab import files\n",
        "uploaded = files.upload()"
      ],
      "metadata": {
        "colab": {
          "base_uri": "https://localhost:8080/",
          "height": 363
        },
        "id": "nxsHlM49X_2J",
        "outputId": "3854aefc-f99e-41c9-e20c-acaf45e1ec25"
      },
      "execution_count": null,
      "outputs": [
        {
          "output_type": "display_data",
          "data": {
            "text/plain": [
              "<IPython.core.display.HTML object>"
            ],
            "text/html": [
              "\n",
              "     <input type=\"file\" id=\"files-4efd82f0-6c14-46a3-92ba-fef73ef6e058\" name=\"files[]\" multiple disabled\n",
              "        style=\"border:none\" />\n",
              "     <output id=\"result-4efd82f0-6c14-46a3-92ba-fef73ef6e058\">\n",
              "      Upload widget is only available when the cell has been executed in the\n",
              "      current browser session. Please rerun this cell to enable.\n",
              "      </output>\n",
              "      <script>// Copyright 2017 Google LLC\n",
              "//\n",
              "// Licensed under the Apache License, Version 2.0 (the \"License\");\n",
              "// you may not use this file except in compliance with the License.\n",
              "// You may obtain a copy of the License at\n",
              "//\n",
              "//      http://www.apache.org/licenses/LICENSE-2.0\n",
              "//\n",
              "// Unless required by applicable law or agreed to in writing, software\n",
              "// distributed under the License is distributed on an \"AS IS\" BASIS,\n",
              "// WITHOUT WARRANTIES OR CONDITIONS OF ANY KIND, either express or implied.\n",
              "// See the License for the specific language governing permissions and\n",
              "// limitations under the License.\n",
              "\n",
              "/**\n",
              " * @fileoverview Helpers for google.colab Python module.\n",
              " */\n",
              "(function(scope) {\n",
              "function span(text, styleAttributes = {}) {\n",
              "  const element = document.createElement('span');\n",
              "  element.textContent = text;\n",
              "  for (const key of Object.keys(styleAttributes)) {\n",
              "    element.style[key] = styleAttributes[key];\n",
              "  }\n",
              "  return element;\n",
              "}\n",
              "\n",
              "// Max number of bytes which will be uploaded at a time.\n",
              "const MAX_PAYLOAD_SIZE = 100 * 1024;\n",
              "\n",
              "function _uploadFiles(inputId, outputId) {\n",
              "  const steps = uploadFilesStep(inputId, outputId);\n",
              "  const outputElement = document.getElementById(outputId);\n",
              "  // Cache steps on the outputElement to make it available for the next call\n",
              "  // to uploadFilesContinue from Python.\n",
              "  outputElement.steps = steps;\n",
              "\n",
              "  return _uploadFilesContinue(outputId);\n",
              "}\n",
              "\n",
              "// This is roughly an async generator (not supported in the browser yet),\n",
              "// where there are multiple asynchronous steps and the Python side is going\n",
              "// to poll for completion of each step.\n",
              "// This uses a Promise to block the python side on completion of each step,\n",
              "// then passes the result of the previous step as the input to the next step.\n",
              "function _uploadFilesContinue(outputId) {\n",
              "  const outputElement = document.getElementById(outputId);\n",
              "  const steps = outputElement.steps;\n",
              "\n",
              "  const next = steps.next(outputElement.lastPromiseValue);\n",
              "  return Promise.resolve(next.value.promise).then((value) => {\n",
              "    // Cache the last promise value to make it available to the next\n",
              "    // step of the generator.\n",
              "    outputElement.lastPromiseValue = value;\n",
              "    return next.value.response;\n",
              "  });\n",
              "}\n",
              "\n",
              "/**\n",
              " * Generator function which is called between each async step of the upload\n",
              " * process.\n",
              " * @param {string} inputId Element ID of the input file picker element.\n",
              " * @param {string} outputId Element ID of the output display.\n",
              " * @return {!Iterable<!Object>} Iterable of next steps.\n",
              " */\n",
              "function* uploadFilesStep(inputId, outputId) {\n",
              "  const inputElement = document.getElementById(inputId);\n",
              "  inputElement.disabled = false;\n",
              "\n",
              "  const outputElement = document.getElementById(outputId);\n",
              "  outputElement.innerHTML = '';\n",
              "\n",
              "  const pickedPromise = new Promise((resolve) => {\n",
              "    inputElement.addEventListener('change', (e) => {\n",
              "      resolve(e.target.files);\n",
              "    });\n",
              "  });\n",
              "\n",
              "  const cancel = document.createElement('button');\n",
              "  inputElement.parentElement.appendChild(cancel);\n",
              "  cancel.textContent = 'Cancel upload';\n",
              "  const cancelPromise = new Promise((resolve) => {\n",
              "    cancel.onclick = () => {\n",
              "      resolve(null);\n",
              "    };\n",
              "  });\n",
              "\n",
              "  // Wait for the user to pick the files.\n",
              "  const files = yield {\n",
              "    promise: Promise.race([pickedPromise, cancelPromise]),\n",
              "    response: {\n",
              "      action: 'starting',\n",
              "    }\n",
              "  };\n",
              "\n",
              "  cancel.remove();\n",
              "\n",
              "  // Disable the input element since further picks are not allowed.\n",
              "  inputElement.disabled = true;\n",
              "\n",
              "  if (!files) {\n",
              "    return {\n",
              "      response: {\n",
              "        action: 'complete',\n",
              "      }\n",
              "    };\n",
              "  }\n",
              "\n",
              "  for (const file of files) {\n",
              "    const li = document.createElement('li');\n",
              "    li.append(span(file.name, {fontWeight: 'bold'}));\n",
              "    li.append(span(\n",
              "        `(${file.type || 'n/a'}) - ${file.size} bytes, ` +\n",
              "        `last modified: ${\n",
              "            file.lastModifiedDate ? file.lastModifiedDate.toLocaleDateString() :\n",
              "                                    'n/a'} - `));\n",
              "    const percent = span('0% done');\n",
              "    li.appendChild(percent);\n",
              "\n",
              "    outputElement.appendChild(li);\n",
              "\n",
              "    const fileDataPromise = new Promise((resolve) => {\n",
              "      const reader = new FileReader();\n",
              "      reader.onload = (e) => {\n",
              "        resolve(e.target.result);\n",
              "      };\n",
              "      reader.readAsArrayBuffer(file);\n",
              "    });\n",
              "    // Wait for the data to be ready.\n",
              "    let fileData = yield {\n",
              "      promise: fileDataPromise,\n",
              "      response: {\n",
              "        action: 'continue',\n",
              "      }\n",
              "    };\n",
              "\n",
              "    // Use a chunked sending to avoid message size limits. See b/62115660.\n",
              "    let position = 0;\n",
              "    do {\n",
              "      const length = Math.min(fileData.byteLength - position, MAX_PAYLOAD_SIZE);\n",
              "      const chunk = new Uint8Array(fileData, position, length);\n",
              "      position += length;\n",
              "\n",
              "      const base64 = btoa(String.fromCharCode.apply(null, chunk));\n",
              "      yield {\n",
              "        response: {\n",
              "          action: 'append',\n",
              "          file: file.name,\n",
              "          data: base64,\n",
              "        },\n",
              "      };\n",
              "\n",
              "      let percentDone = fileData.byteLength === 0 ?\n",
              "          100 :\n",
              "          Math.round((position / fileData.byteLength) * 100);\n",
              "      percent.textContent = `${percentDone}% done`;\n",
              "\n",
              "    } while (position < fileData.byteLength);\n",
              "  }\n",
              "\n",
              "  // All done.\n",
              "  yield {\n",
              "    response: {\n",
              "      action: 'complete',\n",
              "    }\n",
              "  };\n",
              "}\n",
              "\n",
              "scope.google = scope.google || {};\n",
              "scope.google.colab = scope.google.colab || {};\n",
              "scope.google.colab._files = {\n",
              "  _uploadFiles,\n",
              "  _uploadFilesContinue,\n",
              "};\n",
              "})(self);\n",
              "</script> "
            ]
          },
          "metadata": {}
        },
        {
          "output_type": "error",
          "ename": "MessageError",
          "evalue": "ignored",
          "traceback": [
            "\u001b[0;31m---------------------------------------------------------------------------\u001b[0m",
            "\u001b[0;31mMessageError\u001b[0m                              Traceback (most recent call last)",
            "\u001b[0;32m<ipython-input-16-21dc3c638f66>\u001b[0m in \u001b[0;36m<module>\u001b[0;34m\u001b[0m\n\u001b[1;32m      1\u001b[0m \u001b[0;32mfrom\u001b[0m \u001b[0mgoogle\u001b[0m\u001b[0;34m.\u001b[0m\u001b[0mcolab\u001b[0m \u001b[0;32mimport\u001b[0m \u001b[0mfiles\u001b[0m\u001b[0;34m\u001b[0m\u001b[0;34m\u001b[0m\u001b[0m\n\u001b[0;32m----> 2\u001b[0;31m \u001b[0muploaded\u001b[0m \u001b[0;34m=\u001b[0m \u001b[0mfiles\u001b[0m\u001b[0;34m.\u001b[0m\u001b[0mupload\u001b[0m\u001b[0;34m(\u001b[0m\u001b[0;34m)\u001b[0m\u001b[0;34m\u001b[0m\u001b[0;34m\u001b[0m\u001b[0m\n\u001b[0m",
            "\u001b[0;32m/usr/local/lib/python3.8/dist-packages/google/colab/files.py\u001b[0m in \u001b[0;36mupload\u001b[0;34m()\u001b[0m\n\u001b[1;32m     65\u001b[0m   \"\"\"\n\u001b[1;32m     66\u001b[0m \u001b[0;34m\u001b[0m\u001b[0m\n\u001b[0;32m---> 67\u001b[0;31m   \u001b[0muploaded_files\u001b[0m \u001b[0;34m=\u001b[0m \u001b[0m_upload_files\u001b[0m\u001b[0;34m(\u001b[0m\u001b[0mmultiple\u001b[0m\u001b[0;34m=\u001b[0m\u001b[0;32mTrue\u001b[0m\u001b[0;34m)\u001b[0m\u001b[0;34m\u001b[0m\u001b[0;34m\u001b[0m\u001b[0m\n\u001b[0m\u001b[1;32m     68\u001b[0m   \u001b[0;31m# Mapping from original filename to filename as saved locally.\u001b[0m\u001b[0;34m\u001b[0m\u001b[0;34m\u001b[0m\u001b[0;34m\u001b[0m\u001b[0m\n\u001b[1;32m     69\u001b[0m   \u001b[0mlocal_filenames\u001b[0m \u001b[0;34m=\u001b[0m \u001b[0mdict\u001b[0m\u001b[0;34m(\u001b[0m\u001b[0;34m)\u001b[0m\u001b[0;34m\u001b[0m\u001b[0;34m\u001b[0m\u001b[0m\n",
            "\u001b[0;32m/usr/local/lib/python3.8/dist-packages/google/colab/files.py\u001b[0m in \u001b[0;36m_upload_files\u001b[0;34m(multiple)\u001b[0m\n\u001b[1;32m    148\u001b[0m \u001b[0;34m\u001b[0m\u001b[0m\n\u001b[1;32m    149\u001b[0m   \u001b[0;32mwhile\u001b[0m \u001b[0mresult\u001b[0m\u001b[0;34m[\u001b[0m\u001b[0;34m'action'\u001b[0m\u001b[0;34m]\u001b[0m \u001b[0;34m!=\u001b[0m \u001b[0;34m'complete'\u001b[0m\u001b[0;34m:\u001b[0m\u001b[0;34m\u001b[0m\u001b[0;34m\u001b[0m\u001b[0m\n\u001b[0;32m--> 150\u001b[0;31m     result = _output.eval_js(\n\u001b[0m\u001b[1;32m    151\u001b[0m         'google.colab._files._uploadFilesContinue(\"{output_id}\")'.format(\n\u001b[1;32m    152\u001b[0m             output_id=output_id))\n",
            "\u001b[0;32m/usr/local/lib/python3.8/dist-packages/google/colab/output/_js.py\u001b[0m in \u001b[0;36meval_js\u001b[0;34m(script, ignore_result, timeout_sec)\u001b[0m\n\u001b[1;32m     38\u001b[0m   \u001b[0;32mif\u001b[0m \u001b[0mignore_result\u001b[0m\u001b[0;34m:\u001b[0m\u001b[0;34m\u001b[0m\u001b[0;34m\u001b[0m\u001b[0m\n\u001b[1;32m     39\u001b[0m     \u001b[0;32mreturn\u001b[0m\u001b[0;34m\u001b[0m\u001b[0;34m\u001b[0m\u001b[0m\n\u001b[0;32m---> 40\u001b[0;31m   \u001b[0;32mreturn\u001b[0m \u001b[0m_message\u001b[0m\u001b[0;34m.\u001b[0m\u001b[0mread_reply_from_input\u001b[0m\u001b[0;34m(\u001b[0m\u001b[0mrequest_id\u001b[0m\u001b[0;34m,\u001b[0m \u001b[0mtimeout_sec\u001b[0m\u001b[0;34m)\u001b[0m\u001b[0;34m\u001b[0m\u001b[0;34m\u001b[0m\u001b[0m\n\u001b[0m\u001b[1;32m     41\u001b[0m \u001b[0;34m\u001b[0m\u001b[0m\n\u001b[1;32m     42\u001b[0m \u001b[0;34m\u001b[0m\u001b[0m\n",
            "\u001b[0;32m/usr/local/lib/python3.8/dist-packages/google/colab/_message.py\u001b[0m in \u001b[0;36mread_reply_from_input\u001b[0;34m(message_id, timeout_sec)\u001b[0m\n\u001b[1;32m    100\u001b[0m         reply.get('colab_msg_id') == message_id):\n\u001b[1;32m    101\u001b[0m       \u001b[0;32mif\u001b[0m \u001b[0;34m'error'\u001b[0m \u001b[0;32min\u001b[0m \u001b[0mreply\u001b[0m\u001b[0;34m:\u001b[0m\u001b[0;34m\u001b[0m\u001b[0;34m\u001b[0m\u001b[0m\n\u001b[0;32m--> 102\u001b[0;31m         \u001b[0;32mraise\u001b[0m \u001b[0mMessageError\u001b[0m\u001b[0;34m(\u001b[0m\u001b[0mreply\u001b[0m\u001b[0;34m[\u001b[0m\u001b[0;34m'error'\u001b[0m\u001b[0;34m]\u001b[0m\u001b[0;34m)\u001b[0m\u001b[0;34m\u001b[0m\u001b[0;34m\u001b[0m\u001b[0m\n\u001b[0m\u001b[1;32m    103\u001b[0m       \u001b[0;32mreturn\u001b[0m \u001b[0mreply\u001b[0m\u001b[0;34m.\u001b[0m\u001b[0mget\u001b[0m\u001b[0;34m(\u001b[0m\u001b[0;34m'data'\u001b[0m\u001b[0;34m,\u001b[0m \u001b[0;32mNone\u001b[0m\u001b[0;34m)\u001b[0m\u001b[0;34m\u001b[0m\u001b[0;34m\u001b[0m\u001b[0m\n\u001b[1;32m    104\u001b[0m \u001b[0;34m\u001b[0m\u001b[0m\n",
            "\u001b[0;31mMessageError\u001b[0m: RangeError: Maximum call stack size exceeded."
          ]
        }
      ]
    },
    {
      "cell_type": "code",
      "execution_count": null,
      "metadata": {
        "colab": {
          "base_uri": "https://localhost:8080/",
          "height": 627
        },
        "id": "a5jklEWTDtnk",
        "outputId": "a797639f-78ae-41e8-c705-ad36e90fd9d4"
      },
      "outputs": [
        {
          "output_type": "display_data",
          "data": {
            "text/plain": [
              "<Figure size 432x288 with 1 Axes>"
            ],
            "image/png": "[encoded data removed]"
          },
          "metadata": {
            "needs_background": "light"
          }
        },
        {
          "output_type": "stream",
          "name": "stdout",
          "text": [
            "[0.0, 0.001206030150753769, 0.022010050251256283, 0.15819095477386935, 0.4957286432160804, 0.8361809045226131, 0.9750753768844221, 0.9984422110552764, 0.9999497487437186]\n"
          ]
        },
        {
          "output_type": "display_data",
          "data": {
            "text/plain": [
              "<Figure size 432x288 with 1 Axes>"
            ],
            "image/png": "[encoded data removed]"
          },
          "metadata": {
            "needs_background": "light"
          }
        },
        {
          "output_type": "stream",
          "name": "stdout",
          "text": [
            "[0.9912141051617424, 0.014548724209751396, 0.057121886331857996, 0.004789262895136814, 0.5391055254498917, 0.9999995761026342]\n"
          ]
        }
      ],
      "source": [
        "def unitVec(dimensions):\n",
        "  vect = []\n",
        "  times = int(dimensions/2)\n",
        "  for x in range(times):\n",
        "      u1 = np.random.uniform(0,1)\n",
        "      u2 = np.random.uniform(0,1)\n",
        "      y1 = ((math.log(u1)*-2)**0.5) * math.cos(2*math.pi*u2)\n",
        "      y2 = ((math.log(u1)*-2)**0.5) * math.sin(2*math.pi*u2)\n",
        "      vect.append(y1)\n",
        "      vect.append(y2)\n",
        "\n",
        "  vector = np.array(vect)\n",
        "  unit_vector = vector/np.linalg.norm(vector)\n",
        "  return unit_vector\n",
        "\n",
        "\n",
        "\n",
        "all_vectors = []\n",
        "for x in range(200):\n",
        "  all_vectors.append(unitVec(100))\n",
        "\n",
        "\n",
        "dot_products = []\n",
        "for x in range(200):\n",
        "  for y in range(x,200):\n",
        "    if x != y:  \n",
        "      dot_products.append(np.dot(all_vectors[x],all_vectors[y]))\n",
        "\n",
        "yax = []\n",
        "for x in range(-4,5):\n",
        "  count= 0\n",
        "  x = x*.1\n",
        "  for y in range(len(dot_products)):\n",
        "    if dot_products[y] <= x:\n",
        "      count+=1\n",
        "  frac = count/len(dot_products)\n",
        "  yax.append(frac)\n",
        "\n",
        "\n",
        "\n",
        "def similarityProb(s, b, r):\n",
        "  val = (1-(s**b))**r\n",
        "  val = 1 - val\n",
        "  return val\n",
        "\n",
        "xaxis = [-.4,-.3,-.2,-.1,0,.1,.2,.3,.4]\n",
        "plt.plot(xaxis, yax)\n",
        "  \n",
        "# naming the x axis\n",
        "plt.xlabel('dot product value')\n",
        "# naming the y axis\n",
        "plt.ylabel('proportion of pairs with value or less')\n",
        "  \n",
        "# giving a title to my graph\n",
        "plt.title('2B Unit Vectors')\n",
        "  \n",
        "# function to show the plot\n",
        "plt.show()\n",
        "\n",
        "print(yax)\n",
        "\n",
        "xaxistest = [0.1,0.2,0.3,.4,.5,.6,.7,.8,.9,1.0]\n",
        "yaxtest = []\n",
        "yaxtest.append(similarityProb(0.1,5,15))\n",
        "yaxtest.append(similarityProb(0.2,5,15))\n",
        "yaxtest.append(similarityProb(0.3,5,15))\n",
        "yaxtest.append(similarityProb(0.4,5,15))\n",
        "yaxtest.append(similarityProb(0.5,5,15))\n",
        "yaxtest.append(similarityProb(0.6,5,15))\n",
        "yaxtest.append(similarityProb(0.7,5,15))\n",
        "yaxtest.append(similarityProb(0.8,5,15))\n",
        "yaxtest.append(similarityProb(0.9,5,15))\n",
        "yaxtest.append(similarityProb(1.0,5,15))\n",
        "\n",
        "plt.plot(xaxistest, yaxtest)\n",
        "  \n",
        "# naming the x axis\n",
        "plt.xlabel('s')\n",
        "# naming the y axis\n",
        "plt.ylabel('f(s)')\n",
        "  \n",
        "# giving a title to my graph\n",
        "plt.title('r = 15, b =5')\n",
        "  \n",
        "# function to show the plot\n",
        "plt.show()\n",
        "\n",
        "yansw = []\n",
        "yansw.append(similarityProb(0.77,5,15))\n",
        "yansw.append(similarityProb(0.25,5,15))\n",
        "yansw.append(similarityProb(0.33,5,15))\n",
        "yansw.append(similarityProb(0.2,5,15))\n",
        "yansw.append(similarityProb(0.55,5,15))\n",
        "yansw.append(similarityProb(0.91,5,15))\n",
        "print(yansw)"
      ]
    },
    {
      "cell_type": "code",
      "source": [
        "def angSimil(dotproduct):\n",
        "  val = 1- ((1/math.pi)*np.arccos(dotproduct))\n",
        "  return val\n",
        "\n",
        "lines = open(\"R.txt\").read().splitlines()\n",
        "print(len(lines))\n",
        "nplines = np.asarray(lines)\n",
        "datavals = []\n",
        "for x in range(500):\n",
        "  vecy = np.array(np.asarray(lines[x].split()).astype(float))\n",
        "  normvec = vecy/np.linalg.norm(vecy)\n",
        "  datavals.append(normvec)\n",
        "\n",
        "dot_prods = []\n",
        "print(len(datavals))\n",
        "for x in range(500):\n",
        "  for y in range(x,500):\n",
        "    if x != y:  \n",
        "      dot_prods.append(np.dot(datavals[x],datavals[y]))\n",
        "print(len(dot_prods))\n",
        "angsims = []\n",
        "for x in range(len(dot_prods)):\n",
        "  angsims.append(angSimil(dot_prods[x]))\n",
        "\n",
        "print(min(angsims))\n",
        "print(max(angsims))\n",
        "aboveCount = 0\n",
        "yax = []\n",
        "for x in range(6,11):\n",
        "  count= 0\n",
        "  x = x*.1\n",
        "  aboveCount = 0\n",
        "  for y in range(len(angsims)):\n",
        "    if angsims[y] > 0.75:\n",
        "      aboveCount += 1\n",
        "    if angsims[y] <= x:\n",
        "      count+=1\n",
        "  frac = count/len(angsims)\n",
        "  yax.append(frac)\n",
        "  \n",
        "\n",
        "print(aboveCount)\n",
        "xaxis = [.6,.7,.8,.9,1.0]\n",
        "plt.plot(xaxis, yax)\n",
        "  \n",
        "# naming the x axis\n",
        "plt.xlabel('angular simularity value')\n",
        "# naming the y axis\n",
        "plt.ylabel('proportion of pairs value or less')\n",
        "  \n",
        "# giving a title to my graph\n",
        "plt.title('3A Angular Sim of R')\n",
        "  \n",
        "# function to show the plot\n",
        "plt.show()\n",
        "\n",
        "\n",
        "\n",
        "\n",
        "angsims1  = []\n",
        "\n",
        "for x in range(len(dot_products)):\n",
        "    angsims1.append(angSimil(dot_products[x]))\n",
        "\n",
        "print(len(angsims1))\n",
        "print(min(angsims1))\n",
        "print(max(angsims1))\n",
        "\n",
        "aboveCount = 0\n",
        "yax = []\n",
        "for x in range(3,11):\n",
        "  count= 0\n",
        "  x = x*.1\n",
        "  aboveCount = 0\n",
        "  for y in range(len(angsims1)):\n",
        "    if angsims1[y] > 0.75:\n",
        "      aboveCount += 1\n",
        "    if angsims1[y] <= x:\n",
        "      count+=1\n",
        "  frac = count/len(angsims1)\n",
        "  yax.append(frac)\n",
        "  \n",
        "\n",
        "print(aboveCount)\n",
        "xaxis = [.3,.4,.5,.6,.7,.8,.9,1.0]\n",
        "plt.plot(xaxis, yax)\n",
        "  \n",
        "# naming the x axis\n",
        "plt.xlabel('angular simularity value')\n",
        "# naming the y axis\n",
        "plt.ylabel('proportion of pairs value or less')\n",
        "  \n",
        "# giving a title to my graph\n",
        "plt.title('3B Angular Sim of 2B')\n",
        "  \n",
        "# function to show the plot\n",
        "plt.show()"
      ],
      "metadata": {
        "colab": {
          "base_uri": "https://localhost:8080/",
          "height": 743
        },
        "id": "rILHrLdnWXVi",
        "outputId": "7dc77139-70ba-4bce-dfc6-f1a00eb64236"
      },
      "execution_count": null,
      "outputs": [
        {
          "output_type": "stream",
          "name": "stdout",
          "text": [
            "500\n",
            "500\n",
            "124750\n",
            "0.6879562752395512\n",
            "0.9940685592606638\n",
            "107004\n"
          ]
        },
        {
          "output_type": "display_data",
          "data": {
            "text/plain": [
              "<Figure size 432x288 with 1 Axes>"
            ],
            "image/png": "[encoded data removed]"
          },
          "metadata": {
            "needs_background": "light"
          }
        },
        {
          "output_type": "stream",
          "name": "stdout",
          "text": [
            "19900\n",
            "0.3425352226707282\n",
            "0.6192579482483638\n",
            "0\n"
          ]
        },
        {
          "output_type": "display_data",
          "data": {
            "text/plain": [
              "<Figure size 432x288 with 1 Axes>"
            ],
            "image/png": "[encoded data removed]"
          },
          "metadata": {
            "needs_background": "light"
          }
        }
      ]
    }
  ]
}